{
 "cells": [
  {
   "cell_type": "markdown",
   "metadata": {},
   "source": [
    "# 代码框架"
   ]
  },
  {
   "cell_type": "markdown",
   "metadata": {},
   "source": [
    "## 一级:neunet.py"
   ]
  },
  {
   "cell_type": "markdown",
   "metadata": {},
   "source": [
    "调用了二级。\n",
    "包含basic_cnn()、plain_cnn()、residual_net()。\n",
    "每一个函数内都有初始化函数CnvNet()，通道数：3，隐藏层输出数：10，图像size：24*24。"
   ]
  },
  {
   "cell_type": "markdown",
   "metadata": {},
   "source": [
    "## 二级：basic_cnn.py & plain_cnn.py & residual_net.py "
   ]
  },
  {
   "cell_type": "markdown",
   "metadata": {},
   "source": [
    "调用了三级。\n",
    "这三个文件都是CNN网络是具体实现，效果依次递增。\n",
    "位于src/model/。"
   ]
  },
  {
   "cell_type": "markdown",
   "metadata": {},
   "source": [
    "***basic_cnn.py:***\n",
    "\n",
    "*init()*:初始化函数。重点：网络结构（CNN网络，调用了dense_layse.py、conv_layer.py和poor_layer.py内的函数）、目标函数（尚不清楚作用）、优化器（修改学习率）、观察值（训练集预测值，猜测）\n",
    "\n",
    "*train()*:训练函数。重点：数据增强（实现函数详见cifar10.py）、训练的for循环、获取验证集损失值和准确率的for循环\n",
    "\n",
    "*test()*:读取（训练好的）模型，用测试集计算准确率。\n",
    "\n",
    "*debug（）、observe_salience（）、observe_hidden_distribution（）*没有用。"
   ]
  },
  {
   "cell_type": "markdown",
   "metadata": {},
   "source": [
    "\n",
    "***plain_cnn.py & residual.py:***\n",
    "\n",
    "*init()*:初始化函数。调用了网络输出函数，目标函数（尚不清楚作用）、优化器（修改学习率）、观察值（训练集预测值，猜测）\n",
    "\n",
    "*inference()*:网络输出函数。定义了网络结构，包含卷积和池化。调用了dense_layse.py、conv_layer.py和poor_layer.py内的函数。\n",
    "\n",
    "train():训练函数。重点：数据增强（实现函数详见cifar10.py）、训练的for循环、获取验证集损失值和准确率的for循环\n",
    "\n",
    "test():读取（训练好的）模型，用测试集计算准确率。"
   ]
  },
  {
   "cell_type": "markdown",
   "metadata": {},
   "source": [
    "## 三级：dense_layer.py & pool_layer.py & conv_layer.py"
   ]
  },
  {
   "cell_type": "markdown",
   "metadata": {},
   "source": [
    "包含权重衰减（weight decay）、dropout、批正则化（batch normalization）等方法\n",
    "位于src/layer/"
   ]
  },
  {
   "cell_type": "markdown",
   "metadata": {},
   "source": [
    "## cifar10.py"
   ]
  },
  {
   "cell_type": "markdown",
   "metadata": {},
   "source": [
    "训练集、测试集的读取函数\n",
    "数据增强函数（图像的切割、翻转、白化等）"
   ]
  }
 ],
 "metadata": {
  "kernelspec": {
   "display_name": "Python 3",
   "language": "python",
   "name": "python3"
  },
  "language_info": {
   "codemirror_mode": {
    "name": "ipython",
    "version": 3
   },
   "file_extension": ".py",
   "mimetype": "text/x-python",
   "name": "python",
   "nbconvert_exporter": "python",
   "pygments_lexer": "ipython3",
   "version": "3.6.6"
  },
  "toc": {
   "base_numbering": 1,
   "nav_menu": {},
   "number_sections": true,
   "sideBar": true,
   "skip_h1_title": false,
   "title_cell": "Table of Contents",
   "title_sidebar": "Contents",
   "toc_cell": false,
   "toc_position": {},
   "toc_section_display": true,
   "toc_window_display": false
  }
 },
 "nbformat": 4,
 "nbformat_minor": 2
}
